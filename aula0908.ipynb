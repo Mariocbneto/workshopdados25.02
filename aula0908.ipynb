{
 "cells": [
  {
   "cell_type": "code",
   "execution_count": 1,
   "id": "b310a401",
   "metadata": {},
   "outputs": [],
   "source": [
    "import pandas as pd"
   ]
  },
  {
   "cell_type": "code",
   "execution_count": 3,
   "id": "66a8db9f",
   "metadata": {},
   "outputs": [
    {
     "name": "stdout",
     "output_type": "stream",
     "text": [
      "Porcentagem de clientes que cancelaram (Yes): 40.00%\n",
      "Porcentagem de clientes que não cancelaram (No): 60.00%\n"
     ]
    }
   ],
   "source": [
    "import pandas as pd\n",
    "\n",
    "# Criando um DataFrame genérico para simular o churn_data.csv\n",
    "data = {\n",
    "    \"customer_id\": [1, 2, 3, 4, 5, 6, 7, 8, 9, 10],\n",
    "    \"churn\": [\"yes\", \"no\", \"no\", \"yes\", \"no\", \"no\", \"yes\", \"no\", \"yes\", \"no\"]\n",
    "}\n",
    "df = pd.DataFrame(data)\n",
    "\n",
    "# Conta os valores de churn e calcula a porcentagem\n",
    "contagem = df['churn'].value_counts(normalize=True) * 100\n",
    "\n",
    "# Imprime as porcentagens\n",
    "print(\"Porcentagem de clientes que cancelaram (Yes): {:.2f}%\".format(contagem.get(\"yes\", 0)))\n",
    "print(\"Porcentagem de clientes que não cancelaram (No): {:.2f}%\".format(contagem.get(\"no\", 0)))\n"
   ]
  }
 ],
 "metadata": {
  "kernelspec": {
   "display_name": "Python 3",
   "language": "python",
   "name": "python3"
  },
  "language_info": {
   "codemirror_mode": {
    "name": "ipython",
    "version": 3
   },
   "file_extension": ".py",
   "mimetype": "text/x-python",
   "name": "python",
   "nbconvert_exporter": "python",
   "pygments_lexer": "ipython3",
   "version": "3.13.1"
  }
 },
 "nbformat": 4,
 "nbformat_minor": 5
}
